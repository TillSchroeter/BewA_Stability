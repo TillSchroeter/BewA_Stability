{
 "cells": [
  {
   "cell_type": "code",
   "execution_count": 13,
   "id": "8a96ff22",
   "metadata": {},
   "outputs": [],
   "source": [
    "### Bibliotheken\n",
    "import numpy as np\n",
    "import pandas as pd\n",
    "import matplotlib.pyplot as plt\n"
   ]
  },
  {
   "cell_type": "code",
   "execution_count": 14,
   "id": "ea2db145",
   "metadata": {},
   "outputs": [
    {
     "name": "stderr",
     "output_type": "stream",
     "text": [
      "C:\\Users\\tills\\AppData\\Local\\Temp\\ipykernel_17828\\456754601.py:4: DtypeWarning: Columns (3,95,162,271,284,285,293,294) have mixed types. Specify dtype option on import or set low_memory=False.\n",
      "  df = pd.read_csv(\"2025-04-11-11-09_Pre_C_Li_3_Kopie.csv\", delimiter=';', encoding='utf-8')  # ggf. encoding anpassen\n"
     ]
    },
    {
     "name": "stdout",
     "output_type": "stream",
     "text": [
      "      time  Activity  Marker Ultium Motion.Sync (On)  Right Sync (On)  \\\n",
      "0  -1,0690       NaN     NaN                       0                0   \n",
      "1  -1,0680       NaN     NaN                       0                0   \n",
      "2  -1,0670       NaN     NaN                       0                0   \n",
      "3  -1,0660       NaN     NaN                       0                0   \n",
      "4  -1,0650       NaN     NaN                       0                0   \n",
      "\n",
      "  Pelvis Accel Sensor X (mG) Pelvis Accel Sensor Y (mG)  \\\n",
      "0                939,3554688               -25,75378418   \n",
      "1                938,7695313               -25,47607422   \n",
      "2                938,1835938               -25,19836426   \n",
      "3                937,5976563                -24,9206543   \n",
      "4                937,0117188               -24,64294434   \n",
      "\n",
      "  Pelvis Accel Sensor Z (mG)  \\\n",
      "0                349,6582031   \n",
      "1                349,4628906   \n",
      "2                349,2675781   \n",
      "3                349,0722656   \n",
      "4                348,8769531   \n",
      "\n",
      "  Noraxon MyoMotion-Segments-Pelvis-Acceleration-x (mG)  \\\n",
      "0                                        1,576926634      \n",
      "1                                        1,454990053      \n",
      "2                                        1,333053471      \n",
      "3                                         1,21111689      \n",
      "4                                        1,089180309      \n",
      "\n",
      "  Noraxon MyoMotion-Segments-Pelvis-Acceleration-y (mG)  ...  \\\n",
      "0                                       0,8827347109     ...   \n",
      "1                                         1,11622199     ...   \n",
      "2                                        1,349709269     ...   \n",
      "3                                        1,583196547     ...   \n",
      "4                                        1,816683826     ...   \n",
      "\n",
      "  Force plate group-Center of pressure-y (mm)  \\\n",
      "0                                         NaN   \n",
      "1                                         NaN   \n",
      "2                                         NaN   \n",
      "3                                         NaN   \n",
      "4                                         NaN   \n",
      "\n",
      "  Force plate group-Center of pressure-z (mm)    Right Fx (N)   Right Fy (N)  \\\n",
      "0                                         NaN   0,01124000549   0,0225944519   \n",
      "1                                         NaN  0,009836196899  0,02081298828   \n",
      "2                                         NaN    0,2733821869  0,01177597046   \n",
      "3                                         NaN   0,01145744324  0,01940917969   \n",
      "4                                         NaN  0,009836196899  0,02081298828   \n",
      "\n",
      "   Right Fz (N)  Right Mx (N*m)  Right My (N*m)  Right Mz (N*m)  \\\n",
      "0     -0,203125  -0,01958847046  -0,02253341675  0,006420135498   \n",
      "1   0,080078125   0,06000137329   0,02794265747  0,007221221924   \n",
      "2  -0,205078125    0,1397132874   0,09105300903   0,08109664917   \n",
      "3   -0,20703125    0,1393470764  -0,02338790894   0,00772857666   \n",
      "4   0,080078125   0,06000137329   0,02794265747  0,007221221924   \n",
      "\n",
      "  Force plate group-Force plates-Right-Center of pressure-x (mm)  \\\n",
      "0                                                NaN               \n",
      "1                                                NaN               \n",
      "2                                                NaN               \n",
      "3                                                NaN               \n",
      "4                                                NaN               \n",
      "\n",
      "  Force plate group-Force plates-Right-Center of pressure-y (mm)  \n",
      "0                                                NaN              \n",
      "1                                                NaN              \n",
      "2                                                NaN              \n",
      "3                                                NaN              \n",
      "4                                                NaN              \n",
      "\n",
      "[5 rows x 295 columns]\n"
     ]
    }
   ],
   "source": [
    "### Daten einlesen\n",
    "\n",
    "# Einlesen in einen DataFrame\n",
    "df = pd.read_csv(\"2025-04-11-11-09_Pre_C_Li_3_Kopie.csv\", delimiter=';', encoding='utf-8')  # ggf. encoding anpassen\n",
    "# Erste Zeilen anzeigen\n",
    "print(df.head())"
   ]
  },
  {
   "cell_type": "code",
   "execution_count": null,
   "id": "f039858b",
   "metadata": {},
   "outputs": [],
   "source": []
  }
 ],
 "metadata": {
  "kernelspec": {
   "display_name": "Python 3",
   "language": "python",
   "name": "python3"
  },
  "language_info": {
   "codemirror_mode": {
    "name": "ipython",
    "version": 3
   },
   "file_extension": ".py",
   "mimetype": "text/x-python",
   "name": "python",
   "nbconvert_exporter": "python",
   "pygments_lexer": "ipython3",
   "version": "3.12.9"
  }
 },
 "nbformat": 4,
 "nbformat_minor": 5
}
